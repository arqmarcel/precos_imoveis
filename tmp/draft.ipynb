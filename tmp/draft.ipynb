{
 "cells": [
  {
   "cell_type": "code",
   "execution_count": null,
   "metadata": {},
   "outputs": [],
   "source": [
    "modelo_idade = sm.OLS(y, x).fit()\n",
    "#x_com_constante = np.column_stack((np.ones(len(x)), x))  # Adiciona a constante manualmente\n",
    "#modelo_idade = sm.OLS(y, x_com_constante).fit()\n",
    "print(modelo_idade.summary())"
   ]
  }
 ],
 "metadata": {
  "language_info": {
   "name": "python"
  }
 },
 "nbformat": 4,
 "nbformat_minor": 2
}
